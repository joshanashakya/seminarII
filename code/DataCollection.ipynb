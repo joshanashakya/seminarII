{
 "cells": [
  {
   "cell_type": "code",
   "execution_count": 15,
   "metadata": {},
   "outputs": [],
   "source": [
    "import re\n",
    "import os\n",
    "import pandas as pd"
   ]
  },
  {
   "cell_type": "code",
   "execution_count": 16,
   "metadata": {},
   "outputs": [],
   "source": [
    "def list_files():\n",
    "    files = os.listdir('reuters/reuters21578')\n",
    "    reuters_file_pattern = re.compile('reut2-[\\d]+.sgm')\n",
    "    reuters_files = []\n",
    "    for file in files:\n",
    "        if reuters_file_pattern.match(file) == None:\n",
    "            continue\n",
    "        reuters_files.append(file)\n",
    "    return reuters_files"
   ]
  },
  {
   "cell_type": "code",
   "execution_count": 17,
   "metadata": {},
   "outputs": [],
   "source": [
    "def get_data():\n",
    "    reuters_files = list_files()\n",
    "    reuters_data = []\n",
    "    for file in reuters_files:\n",
    "        fobj = open('reuters/reuters21578/' + file, mode='r', encoding='utf8', errors='ignore')\n",
    "        data = fobj.read()\n",
    "        fobj.close()\n",
    "        data = data.replace('\\n', ' ')\n",
    "        reuters_data.append(data)\n",
    "    return reuters_data"
   ]
  },
  {
   "cell_type": "code",
   "execution_count": 18,
   "metadata": {},
   "outputs": [],
   "source": [
    "categories = ['corn', 'cotton', 'rice', 'soybean', 'wheat']"
   ]
  },
  {
   "cell_type": "code",
   "execution_count": 19,
   "metadata": {},
   "outputs": [],
   "source": [
    "def load_data():\n",
    "    reuters_pattern = re.compile('(<REUTERS.*?>.*?</REUTERS>)')\n",
    "    pattern = re.compile('(<TOPICS>.*?</TOPICS>).*?(<TEXT.*?>.*?</TEXT>)')\n",
    "    topic_pattern = re.compile('<D>(.*?)</D>')\n",
    "    text_pattern = re.compile('<TITLE>(.*?)</TITLE>.*?<BODY>(.*?)</BODY>')\n",
    "\n",
    "    reuters_data = {'doc_id': [], 'text':[], 'topics':[]}\n",
    "    reuters_data_list = get_data()\n",
    "\n",
    "    for data in reuters_data_list:\n",
    "        reuters = reuters_pattern.findall(data)\n",
    "        id = 0\n",
    "        for reuter in reuters:\n",
    "            content = pattern.findall(reuter)\n",
    "            topics = topic_pattern.findall(content[0][0])\n",
    "            if len(topics) == 0:\n",
    "                continue\n",
    "    #         off_topics = [topic for topic in topics if topic not in categories]\n",
    "    #         if len(off_topics) != 0:\n",
    "            in_topics = [topic for topic in topics if topic in categories]\n",
    "            if len(in_topics) == 0:\n",
    "                continue\n",
    "            text_list = text_pattern.findall(content[0][1])\n",
    "            if len(text_list) == 0:\n",
    "                continue\n",
    "            text = ' '.join(text_list[0])\n",
    "            id += 1\n",
    "            reuters_data['doc_id'].append(id)\n",
    "            reuters_data['topics'].append(in_topics)\n",
    "            reuters_data['text'].append(text)\n",
    "    return reuters_data"
   ]
  },
  {
   "cell_type": "code",
   "execution_count": 20,
   "metadata": {},
   "outputs": [],
   "source": [
    "reuters_data = load_data()\n",
    "reuters_df = pd.DataFrame(reuters_data)\n",
    "reuters_df.to_csv('reuters.csv', index=False)"
   ]
  },
  {
   "cell_type": "code",
   "execution_count": 21,
   "metadata": {},
   "outputs": [],
   "source": [
    "# creates csv in binary topic format\n",
    "data_topics = reuters_data['topics']\n",
    "topics_dict = {'corn': [], 'cotton': [], 'rice': [], 'soybean': [], 'wheat': []}\n",
    "for topics in data_topics:\n",
    "    for key in topics_dict:\n",
    "        if key in topics:\n",
    "            topics_dict[key].append(1)\n",
    "        else:\n",
    "            topics_dict[key].append(0) \n",
    "topics_df = pd.DataFrame(topics_dict)"
   ]
  },
  {
   "cell_type": "code",
   "execution_count": 27,
   "metadata": {},
   "outputs": [],
   "source": [
    "reuters_df.drop('topics', axis = 1, inplace = True)"
   ]
  },
  {
   "cell_type": "code",
   "execution_count": 35,
   "metadata": {},
   "outputs": [],
   "source": [
    "reuters_new_df = pd.concat([reuters_df, topics_df], axis = 1)\n",
    "reuters_new_df.head()\n",
    "reuters_new_df.to_csv('reuters_new.csv', index=False)"
   ]
  }
 ],
 "metadata": {
  "kernelspec": {
   "display_name": "Python 3",
   "language": "python",
   "name": "python3"
  },
  "language_info": {
   "codemirror_mode": {
    "name": "ipython",
    "version": 3
   },
   "file_extension": ".py",
   "mimetype": "text/x-python",
   "name": "python",
   "nbconvert_exporter": "python",
   "pygments_lexer": "ipython3",
   "version": "3.6.6"
  }
 },
 "nbformat": 4,
 "nbformat_minor": 2
}
