{
 "cells": [
  {
   "cell_type": "code",
   "execution_count": 5,
   "metadata": {},
   "outputs": [],
   "source": [
    "import pandas as pd"
   ]
  },
  {
   "cell_type": "code",
   "execution_count": 6,
   "metadata": {},
   "outputs": [],
   "source": [
    "reuters_df = pd.read_csv('reuters_new.csv')"
   ]
  },
  {
   "cell_type": "code",
   "execution_count": 7,
   "metadata": {},
   "outputs": [
    {
     "data": {
      "text/html": [
       "<div>\n",
       "<style scoped>\n",
       "    .dataframe tbody tr th:only-of-type {\n",
       "        vertical-align: middle;\n",
       "    }\n",
       "\n",
       "    .dataframe tbody tr th {\n",
       "        vertical-align: top;\n",
       "    }\n",
       "\n",
       "    .dataframe thead th {\n",
       "        text-align: right;\n",
       "    }\n",
       "</style>\n",
       "<table border=\"1\" class=\"dataframe\">\n",
       "  <thead>\n",
       "    <tr style=\"text-align: right;\">\n",
       "      <th></th>\n",
       "      <th>doc_id</th>\n",
       "      <th>text</th>\n",
       "      <th>corn</th>\n",
       "      <th>cotton</th>\n",
       "      <th>rice</th>\n",
       "      <th>soybean</th>\n",
       "      <th>wheat</th>\n",
       "    </tr>\n",
       "  </thead>\n",
       "  <tbody>\n",
       "    <tr>\n",
       "      <th>10</th>\n",
       "      <td>11</td>\n",
       "      <td>AROUND 3.5 MLN ACRES SAID TO BE IDLED BY 0/92 ...</td>\n",
       "      <td>1</td>\n",
       "      <td>1</td>\n",
       "      <td>0</td>\n",
       "      <td>0</td>\n",
       "      <td>1</td>\n",
       "    </tr>\n",
       "    <tr>\n",
       "      <th>11</th>\n",
       "      <td>12</td>\n",
       "      <td>U.S. COULD COMPLAIN TO GATT ON CANADA CORN DUT...</td>\n",
       "      <td>1</td>\n",
       "      <td>0</td>\n",
       "      <td>0</td>\n",
       "      <td>0</td>\n",
       "      <td>0</td>\n",
       "    </tr>\n",
       "    <tr>\n",
       "      <th>12</th>\n",
       "      <td>13</td>\n",
       "      <td>TRADE SEES STEADY CORN/WHEAT EXPORT INSPECTION...</td>\n",
       "      <td>1</td>\n",
       "      <td>0</td>\n",
       "      <td>0</td>\n",
       "      <td>1</td>\n",
       "      <td>1</td>\n",
       "    </tr>\n",
       "    <tr>\n",
       "      <th>13</th>\n",
       "      <td>14</td>\n",
       "      <td>USDA DETAILS CONSERVATION CROP ENROLLMENT Farm...</td>\n",
       "      <td>1</td>\n",
       "      <td>1</td>\n",
       "      <td>1</td>\n",
       "      <td>1</td>\n",
       "      <td>1</td>\n",
       "    </tr>\n",
       "    <tr>\n",
       "      <th>14</th>\n",
       "      <td>15</td>\n",
       "      <td>PL 480 COMMODITIES FOR HONDURAS -- USDA The Un...</td>\n",
       "      <td>1</td>\n",
       "      <td>0</td>\n",
       "      <td>0</td>\n",
       "      <td>0</td>\n",
       "      <td>1</td>\n",
       "    </tr>\n",
       "  </tbody>\n",
       "</table>\n",
       "</div>"
      ],
      "text/plain": [
       "    doc_id                                               text  corn  cotton  \\\n",
       "10      11  AROUND 3.5 MLN ACRES SAID TO BE IDLED BY 0/92 ...     1       1   \n",
       "11      12  U.S. COULD COMPLAIN TO GATT ON CANADA CORN DUT...     1       0   \n",
       "12      13  TRADE SEES STEADY CORN/WHEAT EXPORT INSPECTION...     1       0   \n",
       "13      14  USDA DETAILS CONSERVATION CROP ENROLLMENT Farm...     1       1   \n",
       "14      15  PL 480 COMMODITIES FOR HONDURAS -- USDA The Un...     1       0   \n",
       "\n",
       "    rice  soybean  wheat  \n",
       "10     0        0      1  \n",
       "11     0        0      0  \n",
       "12     0        1      1  \n",
       "13     1        1      1  \n",
       "14     0        0      1  "
      ]
     },
     "execution_count": 7,
     "metadata": {},
     "output_type": "execute_result"
    }
   ],
   "source": [
    "reuters_df[10:15]"
   ]
  },
  {
   "cell_type": "code",
   "execution_count": 8,
   "metadata": {},
   "outputs": [],
   "source": [
    "import seaborn as sns\n",
    "import matplotlib.pyplot as plt\n",
    "%matplotlib inline"
   ]
  },
  {
   "cell_type": "code",
   "execution_count": 52,
   "metadata": {},
   "outputs": [
    {
     "data": {
      "image/png": "[encoded data removed]",
      "text/plain": [
       "<Figure size 504x504 with 1 Axes>"
      ]
     },
     "metadata": {},
     "output_type": "display_data"
    }
   ],
   "source": [
    "# sns.set(font_scale = 2)\n",
    "plt.figure(figsize = (7, 7))\n",
    "plt.title('Documents in each category')\n",
    "plt.xlabel('Document Category')\n",
    "plt.ylabel('Document Count')\n",
    "categories = reuters_df.iloc[:, 2:].columns.values\n",
    "counts = reuters_df.iloc[:, 2:].sum().values\n",
    "ax = sns.barplot(categories, counts, palette='Set2', saturation = 0.0)\n",
    "rects = ax.patches\n",
    "for rect, count in zip(rects, counts):\n",
    "    height = rect.get_height()\n",
    "    ax.text(rect.get_x() + rect.get_width()/2, height + 5, count, ha = 'center', va = 'bottom')\n",
    "plt.show()"
   ]
  },
  {
   "cell_type": "code",
   "execution_count": 58,
   "metadata": {},
   "outputs": [
    {
     "data": {
      "image/png": "[encoded data removed]",
      "text/plain": [
       "<Figure size 504x504 with 1 Axes>"
      ]
     },
     "metadata": {},
     "output_type": "display_data"
    }
   ],
   "source": [
    "multilabel_counts = reuters_df.iloc[:,2:].sum(axis = 1).value_counts()\n",
    "indexes = multilabel_counts.index\n",
    "counts = multilabel_counts\n",
    "plt.figure(figsize = (7, 7))\n",
    "plt.title('Document counts with category counts')\n",
    "plt.xlabel('No. of categories')\n",
    "plt.ylabel('Document counts')\n",
    "ax = sns.barplot(indexes, counts, palette = 'Set2', saturation = 0.0)\n",
    "rects = ax.patches\n",
    "for rect, count in zip(rects, counts):\n",
    "    height = rect.get_height()\n",
    "    ax.text(rect.get_x() + rect.get_width()/2, height + 5, count, ha = 'center', va = 'bottom')\n",
    "plt.show()"
   ]
  }
 ],
 "metadata": {
  "kernelspec": {
   "display_name": "Python 3",
   "language": "python",
   "name": "python3"
  },
  "language_info": {
   "codemirror_mode": {
    "name": "ipython",
    "version": 3
   },
   "file_extension": ".py",
   "mimetype": "text/x-python",
   "name": "python",
   "nbconvert_exporter": "python",
   "pygments_lexer": "ipython3",
   "version": "3.6.6"
  }
 },
 "nbformat": 4,
 "nbformat_minor": 2
}
